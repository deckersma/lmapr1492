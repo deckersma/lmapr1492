{
 "cells": [
  {
   "cell_type": "code",
   "execution_count": 33,
   "id": "lined-primary",
   "metadata": {},
   "outputs": [],
   "source": [
    "from pymatgen import Lattice, Structure\n",
    "from pymatgen.symmetry.analyzer import SpacegroupAnalyzer\n",
    "from pymatgen.core.composition import Composition\n",
    "from jupyter_jsmol.pymatgen import quick_view\n",
    "from pymatgen.ext.matproj import MPRester\n"
   ]
  },
  {
   "cell_type": "markdown",
   "id": "enclosed-connection",
   "metadata": {},
   "source": [
    "# Structure du matériau WSe2"
   ]
  },
  {
   "cell_type": "code",
   "execution_count": 34,
   "id": "addressed-mozambique",
   "metadata": {},
   "outputs": [
    {
     "data": {
      "application/vnd.jupyter.widget-view+json": {
       "model_id": "5795a9d2826e45c5b6a798cbcaa1ce2c",
       "version_major": 2,
       "version_minor": 0
      },
      "text/plain": [
       "JsmolView(layout=Layout(align_self='stretch', height='400px'))"
      ]
     },
     "metadata": {},
     "output_type": "display_data"
    }
   ],
   "source": [
    "with MPRester(\"LUZDaZywJ3wcPUgp0h4\") as m:\n",
    "\n",
    "    # Structure for material id\n",
    "    struct = m.get_structure_by_material_id(\"mp-1023936\")\n",
    "view = quick_view(struct)\n",
    "display(view)"
   ]
  },
  {
   "cell_type": "markdown",
   "id": "annoying-group",
   "metadata": {},
   "source": [
    "# Réseau direct"
   ]
  },
  {
   "cell_type": "markdown",
   "id": "automated-roller",
   "metadata": {},
   "source": [
    "Les 3 vecteurs de base du réseau direct sont"
   ]
  },
  {
   "cell_type": "code",
   "execution_count": 35,
   "id": "wound-sound",
   "metadata": {},
   "outputs": [
    {
     "name": "stdout",
     "output_type": "stream",
     "text": [
      "1.662806 -2.880065 0.000000\n",
      "1.662806 2.880065 0.000000\n",
      "0.000000 0.000000 17.527085\n"
     ]
    }
   ],
   "source": [
    "print(struct.lattice)"
   ]
  },
  {
   "cell_type": "markdown",
   "id": "floppy-slide",
   "metadata": {},
   "source": [
    "Ces vecteurs ont pour normes (exprimées en Angström)"
   ]
  },
  {
   "cell_type": "code",
   "execution_count": 36,
   "id": "heavy-chorus",
   "metadata": {},
   "outputs": [
    {
     "name": "stdout",
     "output_type": "stream",
     "text": [
      "a = 3.3256124545504395\n",
      "b = 3.3256124545504395\n",
      "c = 17.527085\n"
     ]
    }
   ],
   "source": [
    "lat = struct.lattice\n",
    "print(\"a = {}\".format(lat.a))\n",
    "print(\"b = {}\".format(lat.b))\n",
    "print(\"c = {}\".format(lat.c))"
   ]
  },
  {
   "cell_type": "markdown",
   "id": "shaped-wichita",
   "metadata": {},
   "source": [
    "Et ils forment les angles (en degrés)"
   ]
  },
  {
   "cell_type": "code",
   "execution_count": 37,
   "id": "innovative-surveillance",
   "metadata": {},
   "outputs": [
    {
     "name": "stdout",
     "output_type": "stream",
     "text": [
      "alpha = 90.0\n",
      "beta = 90.0\n",
      "gamma = 120.0\n"
     ]
    }
   ],
   "source": [
    "angl = struct.lattice.angles\n",
    "print(\"alpha = {}\".format(angl[0]))\n",
    "print(\"beta = {}\".format(angl[1]))\n",
    "print(\"gamma = {}\".format(round(angl[2],3)))\n"
   ]
  },
  {
   "cell_type": "markdown",
   "id": "prompt-barcelona",
   "metadata": {},
   "source": [
    "# Réseau réciproque"
   ]
  },
  {
   "cell_type": "markdown",
   "id": "acoustic-settlement",
   "metadata": {},
   "source": [
    "Les 3 vecteurs de base du réseau réciproque sont"
   ]
  },
  {
   "cell_type": "code",
   "execution_count": 38,
   "id": "italian-chain",
   "metadata": {},
   "outputs": [
    {
     "name": "stdout",
     "output_type": "stream",
     "text": [
      "1.889332 -1.090806 0.000000\n",
      "1.889332 1.090806 0.000000\n",
      "0.000000 0.000000 0.358484\n"
     ]
    }
   ],
   "source": [
    "print(struct.lattice.reciprocal_lattice)\n"
   ]
  },
  {
   "cell_type": "markdown",
   "id": "banner-edwards",
   "metadata": {},
   "source": [
    "Ces vecteurs ont pour normes (exprimées en Angström)"
   ]
  },
  {
   "cell_type": "code",
   "execution_count": 39,
   "id": "distinguished-replacement",
   "metadata": {},
   "outputs": [
    {
     "name": "stdout",
     "output_type": "stream",
     "text": [
      "a = 2.1816126254012658\n",
      "b = 2.1816126254012658\n",
      "c = 0.3584843290929203\n"
     ]
    }
   ],
   "source": [
    "lat_reci = struct.lattice.reciprocal_lattice\n",
    "print(\"a = {}\".format(lat_reci.a))\n",
    "print(\"b = {}\".format(lat_reci.b))\n",
    "print(\"c = {}\".format(lat_reci.c))"
   ]
  },
  {
   "cell_type": "markdown",
   "id": "electoral-topic",
   "metadata": {},
   "source": [
    "Et ils forment les angles (en degrés)"
   ]
  },
  {
   "cell_type": "code",
   "execution_count": 40,
   "id": "polished-amino",
   "metadata": {},
   "outputs": [
    {
     "name": "stdout",
     "output_type": "stream",
     "text": [
      "alpha = 90.0\n",
      "beta = 90.0\n",
      "gamma = 60.0\n"
     ]
    }
   ],
   "source": [
    "angl_reci = struct.lattice.reciprocal_lattice.angles\n",
    "print(\"alpha = {}\".format(angl_reci[0]))\n",
    "print(\"beta = {}\".format(angl_reci[1]))\n",
    "print(\"gamma = {}\".format(round(angl_reci[2],3)))"
   ]
  },
  {
   "cell_type": "markdown",
   "id": "thirty-comedy",
   "metadata": {},
   "source": [
    "# Type de Maille"
   ]
  },
  {
   "cell_type": "markdown",
   "id": "associate-firmware",
   "metadata": {},
   "source": [
    "Le matériau a une maille de type"
   ]
  },
  {
   "cell_type": "code",
   "execution_count": 41,
   "id": "skilled-reception",
   "metadata": {},
   "outputs": [
    {
     "name": "stdout",
     "output_type": "stream",
     "text": [
      "hexagonal\n"
     ]
    }
   ],
   "source": [
    "print(SpacegroupAnalyzer(struct).get_lattice_type())"
   ]
  },
  {
   "cell_type": "markdown",
   "id": "loaded-alaska",
   "metadata": {},
   "source": [
    "# Système Cristallin"
   ]
  },
  {
   "cell_type": "markdown",
   "id": "psychological-pearl",
   "metadata": {},
   "source": [
    "Le matériau a un système cristallin de type"
   ]
  },
  {
   "cell_type": "code",
   "execution_count": 42,
   "id": "smoking-ethics",
   "metadata": {},
   "outputs": [
    {
     "name": "stdout",
     "output_type": "stream",
     "text": [
      "hexagonal\n"
     ]
    }
   ],
   "source": [
    "print(SpacegroupAnalyzer(struct).get_crystal_system())"
   ]
  },
  {
   "cell_type": "markdown",
   "id": "electoral-pride",
   "metadata": {},
   "source": [
    "# Groupe ponctuel"
   ]
  },
  {
   "cell_type": "markdown",
   "id": "norwegian-reporter",
   "metadata": {},
   "source": [
    "Le matériau a pour groupe ponctuel"
   ]
  },
  {
   "cell_type": "code",
   "execution_count": 43,
   "id": "nuclear-inquiry",
   "metadata": {},
   "outputs": [
    {
     "name": "stdout",
     "output_type": "stream",
     "text": [
      "-6m2\n"
     ]
    }
   ],
   "source": [
    "print(SpacegroupAnalyzer(struct).get_point_group_symbol())\n"
   ]
  },
  {
   "cell_type": "code",
   "execution_count": null,
   "id": "offshore-orlando",
   "metadata": {},
   "outputs": [],
   "source": []
  }
 ],
 "metadata": {
  "kernelspec": {
   "display_name": "Python 3",
   "language": "python",
   "name": "python3"
  },
  "language_info": {
   "codemirror_mode": {
    "name": "ipython",
    "version": 3
   },
   "file_extension": ".py",
   "mimetype": "text/x-python",
   "name": "python",
   "nbconvert_exporter": "python",
   "pygments_lexer": "ipython3",
   "version": "3.6.8"
  }
 },
 "nbformat": 4,
 "nbformat_minor": 5
}
