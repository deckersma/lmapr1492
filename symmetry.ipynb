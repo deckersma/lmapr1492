{
 "cells": [
  {
   "cell_type": "code",
   "execution_count": 67,
   "id": "silent-interview",
   "metadata": {},
   "outputs": [],
   "source": [
    "from pymatgen.core import Lattice, Structure\n",
    "from pymatgen import symmetry\n",
    "from pymatgen.symmetry.analyzer import SpacegroupAnalyzer\n",
    "from pymatgen.core.composition import Composition\n",
    "from jupyter_jsmol.pymatgen import quick_view\n",
    "from pymatgen.ext.matproj import MPRester \n",
    "from pymatgen.core.operations import SymmOp\n",
    "\n",
    "\n",
    "with MPRester(\"LUZDaZywJ3wcPUgp0h4\") as m:\n",
    "\n",
    "    # Structure for material id\n",
    "    struct = m.get_structure_by_material_id(\"mp-1023936\")\n",
    "    struct.to(filename=\"WSe2_mp-1023936.cif\")"
   ]
  },
  {
   "cell_type": "markdown",
   "id": "federal-novelty",
   "metadata": {},
   "source": [
    "# Tâche 6"
   ]
  },
  {
   "cell_type": "markdown",
   "id": "peripheral-metro",
   "metadata": {},
   "source": [
    "Dans ce notebook nous allons analyser trois opérations de symmétrie différents que nous pouvons retrouver dans le matériau WSe2 (mp-1023936). \n"
   ]
  },
  {
   "cell_type": "markdown",
   "id": "executive-investment",
   "metadata": {},
   "source": [
    "## Première opération de symmétrie\n",
    "La première opération de symmétrie choisie est une opération de reflexion sur l'atome W à la position (0 0 0)"
   ]
  },
  {
   "cell_type": "code",
   "execution_count": 68,
   "id": "optical-gardening",
   "metadata": {},
   "outputs": [
    {
     "name": "stdout",
     "output_type": "stream",
     "text": [
      "La matrice de rotation associée à l'opération = \n",
      "[[ 1.  0.  0.]\n",
      " [ 0.  1.  0.]\n",
      " [ 0.  0. -1.]]\n",
      "La matrice de translation associée à l'opération = [0. 0. 0.]\n",
      "La position de l'atome d'arivée est [0. 0. 0.], ce qui correspond à l'atome de départ(après l'avoir ramené dans la cellule de départ)\n"
     ]
    },
    {
     "data": {
      "application/vnd.jupyter.widget-view+json": {
       "model_id": "ed7ec445836c49efb7dcb7e9452db8b5",
       "version_major": 2,
       "version_minor": 0
      },
      "text/plain": [
       "JsmolView(layout=Layout(align_self='stretch', height='400px'))"
      ]
     },
     "metadata": {},
     "output_type": "display_data"
    }
   ],
   "source": [
    "sym1 = SymmOp.from_xyz_string(\"x,y,-z\")\n",
    "print(\"La matrice de rotation associée à l'opération = \")\n",
    "print(sym1.rotation_matrix)\n",
    "print(\"La matrice de translation associée à l'opération = {}\".format(sym1.translation_vector))\n",
    "pos_W0 = [0,0,0]\n",
    "print(\"La position de l'atome d'arivée est {}, ce qui correspond à l'atome de départ(après l'avoir ramené dans la cellule de départ)\".format(sym1.operate(pos_W0)))\n",
    "\n",
    "\n",
    "view = quick_view(struct)\n",
    "display(view)\n",
    "view.script(\"draw symop 4 {atomno=4}\")"
   ]
  },
  {
   "cell_type": "markdown",
   "id": "interstate-malta",
   "metadata": {},
   "source": [
    "## Deuxième opération de symétrie\n",
    "La deuxième opération de symétrie choisie est une opération de rotation d'ordre 2 selon c sur l'atome Se à la position (0.33333    0.66667    0.09588)"
   ]
  },
  {
   "cell_type": "code",
   "execution_count": 64,
   "id": "british-pasta",
   "metadata": {
    "scrolled": true
   },
   "outputs": [
    {
     "name": "stdout",
     "output_type": "stream",
     "text": [
      "La matrice de rotation associée à l'opération = \n",
      "[[ 0. -1.  0.]\n",
      " [-1.  0.  0.]\n",
      " [ 0.  0. -1.]]\n",
      "La matrice de translation associée à l'opération = [0. 0. 0.]\n",
      "La position de l'atome d'arivée est [-0.66667 -0.33333 -0.09588]\n"
     ]
    },
    {
     "data": {
      "application/vnd.jupyter.widget-view+json": {
       "model_id": "06a88786af1f4218adbaca75f60d7785",
       "version_major": 2,
       "version_minor": 0
      },
      "text/plain": [
       "JsmolView(layout=Layout(align_self='stretch', height='400px'))"
      ]
     },
     "metadata": {},
     "output_type": "display_data"
    }
   ],
   "source": [
    "sym2 = SymmOp.from_xyz_string('-y,-x,-z')\n",
    "print(\"La matrice de rotation associée à l'opération = \")\n",
    "print(sym2.rotation_matrix)\n",
    "print(\"La matrice de translation associée à l'opération = {}\".format(sym2.translation_vector))\n",
    "pos_Se1 = [0.33333, 0.66667, 0.09588]\n",
    "print(\"La position de l'atome d'arivée est {}\".format(sym2.operate(pos_Se1)))\n",
    "\n",
    "view = quick_view(struct)\n",
    "display(view)\n",
    "view.script(\"draw symop 7 {atomno=2}\")"
   ]
  },
  {
   "cell_type": "markdown",
   "id": "desirable-roberts",
   "metadata": {},
   "source": [
    "## Troisième opération de symétrie\n",
    "La troisième opération de symétrie choisie est une opération de rotation d'ordre 3 selon c sur l'atome Se à la position (0.33333    0.66667    0.90412)"
   ]
  },
  {
   "cell_type": "code",
   "execution_count": 69,
   "id": "accredited-feelings",
   "metadata": {},
   "outputs": [
    {
     "name": "stdout",
     "output_type": "stream",
     "text": [
      "La matrice de rotation associée à l'opération = \n",
      "[[ 0. -1.  0.]\n",
      " [ 1. -1.  0.]\n",
      " [ 0.  0.  1.]]\n",
      "La matrice de translation associée à l'opération = [0. 0. 0.]\n",
      "La position de l'atome d'arivée est [-0.66667 -0.33334  0.90412]\n"
     ]
    },
    {
     "data": {
      "application/vnd.jupyter.widget-view+json": {
       "model_id": "39fb7d75c331453188b91303d754a968",
       "version_major": 2,
       "version_minor": 0
      },
      "text/plain": [
       "JsmolView(layout=Layout(align_self='stretch', height='400px'))"
      ]
     },
     "metadata": {},
     "output_type": "display_data"
    }
   ],
   "source": [
    "sym3 = SymmOp.from_xyz_string('-y,x-y,z')\n",
    "print(\"La matrice de rotation associée à l'opération = \")\n",
    "print(sym3.rotation_matrix)\n",
    "print(\"La matrice de translation associée à l'opération = {}\".format(sym3.translation_vector))\n",
    "pos_Se2 = [0.33333, 0.66667, 0.90412]\n",
    "print(\"La position de l'atome d'arivée est {}\".format(sym3.operate(pos_Se2)))\n",
    "\n",
    "view = quick_view(struct)\n",
    "display(view)\n",
    "view.script(\"draw symop 3 {atomno=1}\")"
   ]
  },
  {
   "cell_type": "code",
   "execution_count": null,
   "id": "operating-public",
   "metadata": {},
   "outputs": [],
   "source": []
  }
 ],
 "metadata": {
  "kernelspec": {
   "display_name": "Python 3",
   "language": "python",
   "name": "python3"
  },
  "language_info": {
   "codemirror_mode": {
    "name": "ipython",
    "version": 3
   },
   "file_extension": ".py",
   "mimetype": "text/x-python",
   "name": "python",
   "nbconvert_exporter": "python",
   "pygments_lexer": "ipython3",
   "version": "3.6.8"
  }
 },
 "nbformat": 4,
 "nbformat_minor": 5
}
