{
 "cells": [
  {
   "cell_type": "code",
   "execution_count": 2,
   "id": "micro-corner",
   "metadata": {},
   "outputs": [],
   "source": [
    "from pymatgen import Lattice, Structure\n",
    "from pymatgen.symmetry.analyzer import SpacegroupAnalyzer\n",
    "from pymatgen.core.composition import Composition\n",
    "from jupyter_jsmol.pymatgen import quick_view\n",
    "from pymatgen.ext.matproj import MPRester"
   ]
  },
  {
   "cell_type": "code",
   "execution_count": 3,
   "id": "mathematical-developer",
   "metadata": {},
   "outputs": [],
   "source": [
    "with MPRester(\"LUZDaZywJ3wcPUgp0h4\") as m:\n",
    "\n",
    "    # Structure for material id\n",
    "    struct = m.get_structure_by_material_id(\"mp-1023936\")\n"
   ]
  },
  {
   "cell_type": "code",
   "execution_count": 4,
   "id": "japanese-browser",
   "metadata": {},
   "outputs": [
    {
     "data": {
      "application/vnd.jupyter.widget-view+json": {
       "model_id": "3ee958909ccf4948a9f570269c1cabf6",
       "version_major": 2,
       "version_minor": 0
      },
      "text/plain": [
       "JsmolView(layout=Layout(align_self='stretch', height='400px'))"
      ]
     },
     "metadata": {},
     "output_type": "display_data"
    }
   ],
   "source": [
    "view = quick_view(struct)\n",
    "display(view)\n"
   ]
  },
  {
   "cell_type": "code",
   "execution_count": null,
   "id": "ahead-direction",
   "metadata": {},
   "outputs": [],
   "source": []
  },
  {
   "cell_type": "code",
   "execution_count": null,
   "id": "dominican-italian",
   "metadata": {},
   "outputs": [],
   "source": []
  }
 ],
 "metadata": {
  "kernelspec": {
   "display_name": "Python 3",
   "language": "python",
   "name": "python3"
  },
  "language_info": {
   "codemirror_mode": {
    "name": "ipython",
    "version": 3
   },
   "file_extension": ".py",
   "mimetype": "text/x-python",
   "name": "python",
   "nbconvert_exporter": "python",
   "pygments_lexer": "ipython3",
   "version": "3.6.8"
  }
 },
 "nbformat": 4,
 "nbformat_minor": 5
}
